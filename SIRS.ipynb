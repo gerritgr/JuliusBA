{
 "cells": [
  {
   "cell_type": "code",
   "execution_count": 1,
   "id": "e56f7c59",
   "metadata": {},
   "outputs": [],
   "source": [
    "import numpy as np\n",
    "import matplotlib.pyplot as plt"
   ]
  },
  {
   "cell_type": "markdown",
   "id": "3fb72b69",
   "metadata": {},
   "source": [
    "### SIRS Model"
   ]
  },
  {
   "cell_type": "code",
   "execution_count": 2,
   "id": "e5380ab9",
   "metadata": {},
   "outputs": [],
   "source": [
    "states = [\"S\", \"I\", \"R\"]\n",
    "rules = [(\"I\", \"R\", 1.0), # spontaneous rule  I -> R with rate 1.0\n",
    "        (\"R\", \"S\", 0.7),  # spontaneous rule R -> S with rate 0.7\n",
    "        ((\"I\",\"S\"),(\"I\",\"I\"), 0.8)] # contact rule I+S -> I+I with rate 0.4\n"
   ]
  },
  {
   "cell_type": "markdown",
   "id": "0e0806c3",
   "metadata": {},
   "source": [
    "### Network"
   ]
  },
  {
   "cell_type": "code",
   "execution_count": 30,
   "id": "ec9a867f",
   "metadata": {},
   "outputs": [],
   "source": [
    "graph_as_edgelist = edges_30x30# [(0, 4), (0, 1), (1, 5), (1, 2), (2, 6), (2, 3), (3, 7), (4, 8), (4, 5), (5, 9), (5, 6), (6, 10), (6, 7), (7, 11), (8, 12), (8, 9), (9, 13), (9, 10), (10, 14), (10, 11), (11, 15), (12, 13), (13, 14), (14, 15)]"
   ]
  },
  {
   "cell_type": "markdown",
   "id": "2b8e603d",
   "metadata": {},
   "source": [
    "### Simulation Parameter"
   ]
  },
  {
   "cell_type": "code",
   "execution_count": 31,
   "id": "e1ba476a",
   "metadata": {},
   "outputs": [],
   "source": [
    "horizon = 20.0   # wie lange wird simuliert\n",
    "initial_distribution = [0.5, 0.5, 0.0] # gleiche Reihenfolge wie states, musss zu rules passen und normalisiert werden\n",
    "timepoint_num = 101"
   ]
  },
  {
   "cell_type": "markdown",
   "id": "631e4517",
   "metadata": {},
   "source": [
    "### Simulation"
   ]
  },
  {
   "cell_type": "code",
   "execution_count": 32,
   "id": "75ce5406",
   "metadata": {},
   "outputs": [],
   "source": [
    "def get_next_state(current_labels):\n",
    "    fastes_firing_time = 10000000.0  #dummy\n",
    "    firing_rule = None\n",
    "    firing_node = None\n",
    "    firing_edge = None\n",
    "    \n",
    "    # iterate over nodes\n",
    "    for node in nodes:\n",
    "        current_state = current_labels[node]\n",
    "        for rule in rules:\n",
    "            if 'tuple' in str(type(rule[0])):\n",
    "                # is contact rule\n",
    "                continue\n",
    "            if current_state == rule[0]:\n",
    "                current_fireing_time = np.random.exponential(1.0/rule[2])\n",
    "                if current_fireing_time < fastes_firing_time:\n",
    "                    fastes_firing_time = current_fireing_time\n",
    "                    firing_rule = rule\n",
    "                    firing_node = node\n",
    "                    firing_edge = None\n",
    "                    \n",
    "        \n",
    "    # iterate over edges:\n",
    "    for edge in graph_as_edgelist:\n",
    "        node1, node2 = edge\n",
    "        current_state1 = current_labels[node1]\n",
    "        current_state2 = current_labels[node2]\n",
    "        for rule in rules:\n",
    "            if 'str' in str(type(rule[0])):\n",
    "                # is spont. rule\n",
    "                continue\n",
    "            if (current_state1 == rule[0][0] and current_state2 == rule[0][1]) or (current_state2 == rule[0][0] and current_state1 == rule[0][1]): \n",
    "                current_fireing_time = np.random.exponential(1.0/rule[2])\n",
    "                if current_fireing_time < fastes_firing_time:\n",
    "                    fastes_firing_time = current_fireing_time\n",
    "                    firing_rule = rule\n",
    "                    firing_node = None\n",
    "                    firing_edge = edge\n",
    "                \n",
    "\n",
    "    if firing_rule is None:\n",
    "        # no rule could fire\n",
    "        return None, fastes_firing_time # would happen anyway but still\n",
    "    \n",
    "    # apply rule\n",
    "    new_labels = list(current_labels) # copy\n",
    "    \n",
    "    if firing_node is not None:\n",
    "        new_labels[firing_node] = firing_rule[1]\n",
    "        return new_labels, fastes_firing_time\n",
    "        \n",
    "    assert(firing_edge is not None)    \n",
    "    change_node1 = firing_edge[0]\n",
    "    change_node2 = firing_edge[1]\n",
    "    # we have to check which node changes in which direction\n",
    "    if new_labels[change_node1] == firing_rule[0][0] and new_labels[change_node2] == firing_rule[0][1]:\n",
    "        new_labels[change_node1] = firing_rule[1][0]\n",
    "        new_labels[change_node2] = firing_rule[1][1]\n",
    "    else:\n",
    "        new_labels[change_node1] = firing_rule[1][1]\n",
    "        new_labels[change_node2] = firing_rule[1][0]\n",
    "        \n",
    "\n",
    "    return new_labels, fastes_firing_time\n",
    "\n",
    "def count_states(current_labels):\n",
    "    counter = [0 for _ in states]\n",
    "    for label in current_labels:\n",
    "        index = states.index(label)\n",
    "        counter[index] += 1\n",
    "    return counter\n",
    "    "
   ]
  },
  {
   "cell_type": "code",
   "execution_count": 35,
   "id": "987a6a5b",
   "metadata": {},
   "outputs": [
    {
     "data": {
      "image/png": "[encoded data removed]",
      "text/plain": [
       "<Figure size 432x288 with 1 Axes>"
      ]
     },
     "metadata": {
      "needs_background": "light"
     },
     "output_type": "display_data"
    }
   ],
   "source": [
    "nodes = sorted(list(set([e[0] for e in graph_as_edgelist] + [e[1] for e in graph_as_edgelist])))\n",
    "assert(nodes == list(range(len(nodes)))) # nodes haben labels 0...<N-1>\n",
    "\n",
    "# setup\n",
    "timepoints_samples = np.linspace(0.0, horizon, timepoint_num)\n",
    "timepoints_samples_static = np.linspace(0.0, horizon, timepoint_num)\n",
    "initial_labels = list(np.random.choice(states, len(nodes), p=initial_distribution))\n",
    "current_labels = initial_labels\n",
    "global_clock = 0.0\n",
    "labels = list()\n",
    "timepoints = list()\n",
    "state_counts = list()\n",
    "\n",
    "\n",
    "# simulate\n",
    "while len(timepoints_samples) > 0:\n",
    "    new_labels, time_passed = get_next_state(current_labels)\n",
    "    global_clock += time_passed\n",
    "    #if global_clock+time_passed > timepoints_samples[0]:\n",
    "    while len(timepoints_samples) > 0 and global_clock > timepoints_samples[0]:\n",
    "        labels.append(list(current_labels))\n",
    "        state_counts.append(count_states(current_labels))\n",
    "        timepoints_samples = timepoints_samples[1:]\n",
    "    current_labels = new_labels\n",
    "    \n",
    "    \n",
    "# plot\n",
    "plt.clf()\n",
    "for i, state in enumerate(states):\n",
    "    plt.plot(timepoints_samples_static, [c[i] for c in state_counts], label=state)\n",
    "plt.legend()\n",
    "plt.title('Summary Statistics')\n",
    "plt.xlabel('Time')\n",
    "plt.ylabel('Agent Num')\n",
    "plt.savefig('current_plot.png', bbox_inches='tight', dpi=300)"
   ]
  },
  {
   "cell_type": "markdown",
   "id": "f4ee5c04-250d-4b17-8cef-86c4538d0e82",
   "metadata": {},
   "source": [
    "### Utils"
   ]
  },
  {
   "cell_type": "code",
   "execution_count": null,
   "id": "9fecca68-8793-4840-bf65-6a8fc8ea4eca",
   "metadata": {},
   "outputs": [],
   "source": [
    "import networkx as nx"
   ]
  },
  {
   "cell_type": "code",
   "execution_count": 29,
   "id": "59e165e4-609d-4ad6-9b49-ff542cf01b6d",
   "metadata": {},
   "outputs": [],
   "source": [
    "G = nx.grid_2d_graph(30,30)\n",
    "G = nx.convert_node_labels_to_integers(G)\n",
    "edges_30x30 = list(G.edges())"
   ]
  },
  {
   "cell_type": "code",
   "execution_count": null,
   "id": "4e57ab3a-8749-4d12-aa16-c8368d53fe48",
   "metadata": {},
   "outputs": [],
   "source": []
  }
 ],
 "metadata": {
  "kernelspec": {
   "display_name": "Python 3",
   "language": "python",
   "name": "python3"
  },
  "language_info": {
   "codemirror_mode": {
    "name": "ipython",
    "version": 3
   },
   "file_extension": ".py",
   "mimetype": "text/x-python",
   "name": "python",
   "nbconvert_exporter": "python",
   "pygments_lexer": "ipython3",
   "version": "3.8.8"
  }
 },
 "nbformat": 4,
 "nbformat_minor": 5
}
